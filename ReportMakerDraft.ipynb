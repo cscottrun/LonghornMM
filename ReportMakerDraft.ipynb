{
 "cells": [
  {
   "cell_type": "code",
   "execution_count": 1,
   "metadata": {},
   "outputs": [],
   "source": [
    "# import dependancies\n",
    "import os\n",
    "download_folder = os.path.expanduser(\"~\")+\"/Downloads/\"\n",
    "import calendar\n",
    "from datetime import datetime, timedelta\n",
    "import pandas as pd\n",
    "import numpy as np\n",
    "import pandas as pd\n",
    "import numpy as np\n",
    "from pandas import ExcelFile\n",
    "from pandas import ExcelWriter\n"
   ]
  },
  {
   "cell_type": "code",
   "execution_count": 12,
   "metadata": {},
   "outputs": [],
   "source": [
    "# read in full export\n",
    "export = pd.read_csv(f'{download_folder}orders_export.csv', dtype={'Phone':str })\n",
    "\n",
    "# convert 'created at' to timestamp called 'date ordered'\n",
    "timestamps = pd.to_datetime(export['Created at'])\n",
    "export['Date Ordered'] = timestamps.apply(lambda x: datetime(x.year, x.month, x.day))\n",
    "\n",
    "#define today\n",
    "now = datetime.now()\n",
    "today = datetime(now.year, now.month, now.day)\n",
    "today_string = today.strftime(\"%Y-%m-%d\")\n",
    "\n",
    "#Filter based on day of the week\n",
    "  #if it's Monday, then get the past 2 days of orders\n",
    "if today.weekday() ==0:\n",
    "  sunday = export[export['Date Ordered'] == today - timedelta(days=1)]\n",
    "  saturday = export[export['Date Ordered'] == today - timedelta(days=2)]\n",
    "  orders = pd.concat([sunday, saturday], ignore_index = True)\n",
    "else:\n",
    "  orders = export[export['Date Ordered'] == today - timedelta(days=1)]\n",
    "\n",
    "# Fill in missing values from row above to make up for prob with shopify export\n",
    "orders = orders.fillna(method='ffill')\n",
    "\n",
    "# Filter out pre-orders\n",
    "orders = orders[~orders['Lineitem name'].str.contains('pre-order')]\n"
   ]
  },
  {
   "cell_type": "code",
   "execution_count": 14,
   "metadata": {},
   "outputs": [
    {
     "data": {
      "text/plain": [
       "Index(['Name', 'stauts', 'Email', 'Financial Status', 'Paid at',\n",
       "       'Fulfillment Status', 'Fulfilled at', 'Accepts Marketing', 'Currency',\n",
       "       'Subtotal', 'Shipping', 'Taxes', 'Total', 'Discount Code',\n",
       "       'Discount Amount', 'Shipping Method', 'Created at', 'Lineitem quantity',\n",
       "       'Lineitem name', 'Lineitem price', 'Lineitem compare at price',\n",
       "       'Lineitem sku', 'Lineitem requires shipping', 'Lineitem taxable',\n",
       "       'Lineitem fulfillment status', 'Billing Name', 'Billing Street',\n",
       "       'Billing Address1', 'Billing Address2', 'Billing Company',\n",
       "       'Billing City', 'Billing Zip', 'Billing Province', 'Billing Country',\n",
       "       'Billing Phone', 'Shipping Name', 'Shipping Street',\n",
       "       'Shipping Address1', 'Shipping Address2', 'Shipping Company',\n",
       "       'Shipping City', 'Shipping Zip', 'Shipping Province',\n",
       "       'Shipping Country', 'Shipping Phone', 'Notes', 'Note Attributes',\n",
       "       'Cancelled at', 'Payment Method', 'Payment Reference',\n",
       "       'Refunded Amount', 'Vendor', 'Id', 'Tags', 'Risk Level', 'Source',\n",
       "       'Lineitem discount', 'Tax 1 Name', 'Tax 1 Value', 'Tax 2 Name',\n",
       "       'Tax 2 Value', 'Tax 3 Name', 'Tax 3 Value', 'Tax 4 Name', 'Tax 4 Value',\n",
       "       'Tax 5 Name', 'Tax 5 Value', 'Phone', 'Receipt Number', 'Date Ordered'],\n",
       "      dtype='object')"
      ]
     },
     "execution_count": 14,
     "metadata": {},
     "output_type": "execute_result"
    }
   ],
   "source": [
    "orders.columns"
   ]
  },
  {
   "cell_type": "code",
   "execution_count": null,
   "metadata": {},
   "outputs": [],
   "source": [
    "# Create dataframe for cutters\n",
    "to_make = orders['Lineitem name'].value_counts()\n",
    "to_make = to_make.reset_index().rename(columns={'index': 'Lineitem name', 'Lineitem name': 'Count'})\n",
    "\n"
   ]
  },
  {
   "cell_type": "code",
   "execution_count": null,
   "metadata": {},
   "outputs": [],
   "source": [
    "# Create dataframe for instore pickups\n",
    "pick_ups = orders[orders['Shipping Method'].str.contains('in-store')][['Date Ordered',\n",
    "                                                                       'Billing Name',\n",
    "                                                                       'Lineitem name',\n",
    "                                                                       'Shipping Method',\n",
    "                                                                       'Email',\n",
    "                                                                       'Phone']]\n",
    "\n"
   ]
  },
  {
   "cell_type": "code",
   "execution_count": null,
   "metadata": {},
   "outputs": [],
   "source": [
    "# Create dataframe for deliveries\n",
    "deliveries = orders[orders['Shipping Method'].str.contains('Delivery')][['Date Ordered',\n",
    "                                                            'Lineitem name',\n",
    "                                                            'Shipping Method',\n",
    "                                                            'Billing Name', \n",
    "                                                            'Shipping Street',\n",
    "                                                            'Shipping City', \n",
    "                                                            'Shipping Zip',\n",
    "                                                            'Shipping Phone', \n",
    "                                                            'Notes',]].sort_values(by=['Shipping Zip'])"
   ]
  },
  {
   "cell_type": "code",
   "execution_count": null,
   "metadata": {},
   "outputs": [],
   "source": [
    "# Create dataframe for shipping\n",
    "to_ship = orders[orders['Shipping Method'].str.contains('UPS')][['Date Ordered',\n",
    "                                                            'Lineitem name',\n",
    "                                                            'Shipping Method',\n",
    "                                                            'Billing Name',\n",
    "                                                            'Shipping Name',\n",
    "                                                            'Shipping Street',\n",
    "                                                            'Shipping City', \n",
    "                                                            'Shipping Zip',\n",
    "                                                            'Shipping Phone', \n",
    "                                                            'Notes',]]"
   ]
  },
  {
   "cell_type": "code",
   "execution_count": null,
   "metadata": {},
   "outputs": [],
   "source": [
    "# Print all dataframes to excel\n",
    "with pd.ExcelWriter(f'{download_folder}Online Order Reports-{today_string}.xlsx') as writer:\n",
    "    to_make.to_excel(writer, sheet_name='To Make', index=False)\n",
    "    pick_ups.to_excel(writer, sheet_name='Pick Ups', index=False)\n",
    "    deliveries.to_excel(writer,sheet_name='Deliveries', index=False)\n",
    "    to_ship.to_excel(writer, sheet_name='To Ship', index=False)"
   ]
  }
 ],
 "metadata": {
  "kernelspec": {
   "display_name": "Python 3",
   "language": "python",
   "name": "python3"
  },
  "language_info": {
   "codemirror_mode": {
    "name": "ipython",
    "version": 3
   },
   "file_extension": ".py",
   "mimetype": "text/x-python",
   "name": "python",
   "nbconvert_exporter": "python",
   "pygments_lexer": "ipython3",
   "version": "3.7.4"
  }
 },
 "nbformat": 4,
 "nbformat_minor": 4
}
