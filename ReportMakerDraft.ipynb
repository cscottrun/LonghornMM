{
 "cells": [
  {
   "cell_type": "code",
   "execution_count": 1,
   "metadata": {},
   "outputs": [],
   "source": [
    "# import dependancies\n",
    "import os\n",
    "download_folder = os.path.expanduser(\"~\")+\"/Downloads/\"\n",
    "import calendar\n",
    "from datetime import datetime, timedelta\n",
    "import pandas as pd\n",
    "import numpy as np\n",
    "import pandas as pd\n",
    "import numpy as np\n",
    "from pandas import ExcelFile\n",
    "from pandas import ExcelWriter\n",
    "import openpyxl\n"
   ]
  },
  {
   "cell_type": "code",
   "execution_count": 2,
   "metadata": {},
   "outputs": [],
   "source": [
    "pd.set_option('display.max_columns', None)\n",
    "pd.set_option('display.max_rows', None)"
   ]
  },
  {
   "cell_type": "code",
   "execution_count": 3,
   "metadata": {},
   "outputs": [],
   "source": [
    "# read in full export\n",
    "export = pd.read_csv(f'{download_folder}orders_export.csv', dtype={'Phone':str })\n",
    "\n",
    "# convert 'created at' to timestamp called 'date ordered'\n",
    "timestamps = pd.to_datetime(export['Created at'])\n",
    "export['Date Ordered'] = timestamps.apply(lambda x: datetime(x.year, x.month, x.day))\n",
    "\n",
    "#define today\n",
    "now = datetime.now()\n",
    "today = datetime(now.year, now.month, now.day)\n",
    "today_string = today.strftime(\"%Y-%m-%d\")\n",
    "\n",
    "# #Filter based on day of the week\n",
    "#   #if it's Monday, then get the past 2 days of orders\n",
    "# if today.weekday() ==0:\n",
    "#   sunday = export[export['Date Ordered'] == today - timedelta(days=1)]\n",
    "#   saturday = export[export['Date Ordered'] == today - timedelta(days=2)]\n",
    "#   orders = pd.concat([sunday, saturday], ignore_index = True)\n",
    "# else:\n",
    "#   orders = export[export['Date Ordered'] == today - timedelta(days=1)]\n",
    "\n",
    "orders = export\n",
    "\n",
    "# Filter out orders from today\n",
    "orders = orders[orders['Date Ordered'] != today]\n",
    "# orders = orders[orders['Date Ordered'] == today]\n",
    "\n",
    "# Fill in missing values for SOME columns with info from row above\n",
    "orders['Fulfillment Status'] = orders['Fulfillment Status'].fillna(method='ffill')\n",
    "orders['Shipping Name'] = orders['Shipping Name'].fillna(method='ffill')\n",
    "orders['Billing Name'] = orders['Billing Name'].fillna(method='ffill')\n",
    "orders['Shipping Street'] = orders['Shipping Street'].fillna(method='ffill')\n",
    "orders['Shipping City'] = orders['Shipping City'].fillna(method='ffill')\n",
    "orders['Shipping Province'] = orders['Shipping Province'].fillna(method='ffill')\n",
    "orders['Shipping Zip'] = orders['Shipping Zip'].fillna(method='ffill')\n",
    "orders['Shipping Country'] = orders['Shipping Country'].fillna(method='ffill')\n",
    "orders['Shipping Method'] = orders['Shipping Method'].fillna(method='ffill')\n",
    "orders['Financial Status'] = orders['Financial Status'].fillna(method='ffill')\n",
    "\n",
    "# Filter out pre-orders\n",
    "# orders = orders[~orders['Lineitem name'].str.contains('pre-order')]\n",
    "\n",
    "\n"
   ]
  },
  {
   "cell_type": "code",
   "execution_count": 4,
   "metadata": {},
   "outputs": [],
   "source": [
    "# Filter out fulfilled\n",
    "orders = orders[~orders['Fulfillment Status'].str.match('fulfilled')]\n"
   ]
  },
  {
   "cell_type": "code",
   "execution_count": 5,
   "metadata": {},
   "outputs": [],
   "source": [
    "# Filter to only get 'paid' (to get rid of refunded)\n",
    "orders = orders[~orders['Financial Status'].str.match('refunded')]"
   ]
  },
  {
   "cell_type": "code",
   "execution_count": 6,
   "metadata": {},
   "outputs": [],
   "source": [
    "# Shorten description for instore-pickup\n",
    "orders.loc[orders['Shipping Method'].str.contains('in-store'),['Shipping Method']]= 'in-store pickup'"
   ]
  },
  {
   "cell_type": "code",
   "execution_count": 7,
   "metadata": {},
   "outputs": [],
   "source": [
    "# Shipping Method Summary\n",
    "summary = orders.copy()\n",
    "summary.loc[summary['Shipping Method'].str.contains('Delivery|Austin|shipping'), 'Shipping Method'] = 'Delivery'\n",
    "summary.loc[summary['Shipping Method'].str.contains('pickup'), 'Shipping Method'] = \"Pick Up\"\n",
    "summary = summary[['Lineitem name','Name', 'Shipping Method', 'Lineitem quantity']]\n",
    "summary = pd.pivot_table(summary, index=['Shipping Method', 'Lineitem name'], values='Lineitem quantity', aggfunc=np.sum)"
   ]
  },
  {
   "cell_type": "code",
   "execution_count": 8,
   "metadata": {},
   "outputs": [],
   "source": [
    "# Create list for cutters\n",
    "to_make = orders.copy()\n",
    "to_make = pd.pivot_table(to_make, index=['Lineitem name'], values='Lineitem quantity', aggfunc=np.sum)"
   ]
  },
  {
   "cell_type": "code",
   "execution_count": 9,
   "metadata": {},
   "outputs": [],
   "source": [
    "# Create dataframe for instore pickups\n",
    "pick_ups = orders[orders['Shipping Method'].str.contains('in-store')][['Name',\n",
    "                                                                       'Date Ordered',\n",
    "                                                                       'Shipping Name',\n",
    "                                                                       'Lineitem name',\n",
    "                                                                       'Lineitem quantity',\n",
    "                                                                       'Shipping Method',\n",
    "                                                                       'Email',\n",
    "                                                                       'Phone']]\n",
    "\n"
   ]
  },
  {
   "cell_type": "code",
   "execution_count": 10,
   "metadata": {},
   "outputs": [],
   "source": [
    "# Create dataframe for deliveries\n",
    "deliveries = orders[orders['Shipping Method'].str.contains('Delivery')][['Name',\n",
    "                                                            'Date Ordered',\n",
    "                                                            'Lineitem name',\n",
    "                                                            'Lineitem quantity',\n",
    "                                                            'Shipping Method',\n",
    "                                                            'Shipping Name', \n",
    "                                                            'Shipping Street',\n",
    "                                                            'Shipping City', \n",
    "                                                            'Shipping Zip',\n",
    "                                                            'Shipping Phone', \n",
    "                                                            'Notes',]].sort_values(by=['Shipping Method', 'Name'])"
   ]
  },
  {
   "cell_type": "code",
   "execution_count": 16,
   "metadata": {},
   "outputs": [],
   "source": [
    "# Provide count of unique delivery names\n",
    "delNum=deliveries['Shipping Name'].nunique()\n",
    "# len(deliveries)"
   ]
  },
  {
   "cell_type": "code",
   "execution_count": 12,
   "metadata": {},
   "outputs": [],
   "source": [
    "# Create dataframe for shipping\n",
    "to_ship = orders[orders['Shipping Method'].str.contains('UPS')][['Name',\n",
    "                                                            'Date Ordered',\n",
    "                                                            'Lineitem name',\n",
    "                                                            'Lineitem quantity',\n",
    "                                                            'Shipping Method',\n",
    "                                                            'Shipping Name',\n",
    "                                                            'Shipping Name',\n",
    "                                                            'Shipping Street',\n",
    "                                                            'Shipping City', \n",
    "                                                            'Shipping Zip',\n",
    "                                                            'Shipping Phone', \n",
    "                                                            'Notes',]]"
   ]
  },
  {
   "cell_type": "code",
   "execution_count": 46,
   "metadata": {},
   "outputs": [],
   "source": [
    "# Print all dataframes to excel\n",
    "with pd.ExcelWriter(f'{download_folder}Online Order Reports-{today_string}.xlsx') as writer:\n",
    "    summary.to_excel(writer, sheet_name='Method Summary')\n",
    "    to_make.to_excel(writer, sheet_name='To Make')\n",
    "    pick_ups.to_excel(writer, sheet_name='Pick Ups', index=False)\n",
    "    deliveries.to_excel(writer,sheet_name='Deliveries', index=False)\n",
    "    to_ship.to_excel(writer, sheet_name='To Ship', index=False)"
   ]
  },
  {
   "cell_type": "code",
   "execution_count": 13,
   "metadata": {},
   "outputs": [
    {
     "data": {
      "text/plain": [
       "332"
      ]
     },
     "execution_count": 13,
     "metadata": {},
     "output_type": "execute_result"
    }
   ],
   "source": [
    "len(pick_ups)"
   ]
  },
  {
   "cell_type": "code",
   "execution_count": 17,
   "metadata": {},
   "outputs": [
    {
     "name": "stdout",
     "output_type": "stream",
     "text": [
      "Deliveries: 9\n"
     ]
    }
   ],
   "source": [
    "print(f'Deliveries: {delNum}')\n"
   ]
  },
  {
   "cell_type": "code",
   "execution_count": null,
   "metadata": {},
   "outputs": [],
   "source": []
  }
 ],
 "metadata": {
  "kernelspec": {
   "display_name": "Python 3",
   "language": "python",
   "name": "python3"
  },
  "language_info": {
   "codemirror_mode": {
    "name": "ipython",
    "version": 3
   },
   "file_extension": ".py",
   "mimetype": "text/x-python",
   "name": "python",
   "nbconvert_exporter": "python",
   "pygments_lexer": "ipython3",
   "version": "3.7.4"
  }
 },
 "nbformat": 4,
 "nbformat_minor": 4
}
